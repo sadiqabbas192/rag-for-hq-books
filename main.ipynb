{
 "cells": [
  {
   "cell_type": "markdown",
   "id": "2b53e65e",
   "metadata": {},
   "source": [
    "## **LangChain -  FAISS**"
   ]
  },
  {
   "cell_type": "code",
   "execution_count": null,
   "id": "389730da",
   "metadata": {},
   "outputs": [],
   "source": [
    "import os\n",
    "from langchain.document_loaders import PyPDFLoader\n",
    "from langchain.text_splitter import RecursiveCharacterTextSplitter\n",
    "from langchain.embeddings import HuggingFaceBgeEmbeddings\n",
    "from langchain_google_genai import ChatGoogleGenerativeAI\n",
    "from langchain.vectorstores import FAISS\n",
    "from langchain.chains import RetrievalQA\n",
    "from langchain.prompts import PromptTemplate\n",
    "from dotenv import load_dotenv"
   ]
  },
  {
   "cell_type": "code",
   "execution_count": null,
   "id": "5ab394ae",
   "metadata": {},
   "outputs": [],
   "source": [
    "# 1) load PDF\n",
    "pdf_path = 'Hayat-Qulub-Alama-Majlisi.pdf'\n",
    "loader = PyPDFLoader(pdf_path)\n",
    "docs = loader.load()"
   ]
  },
  {
   "cell_type": "code",
   "execution_count": null,
   "id": "82b67dd8",
   "metadata": {},
   "outputs": [],
   "source": [
    "print(loader)"
   ]
  },
  {
   "cell_type": "code",
   "execution_count": null,
   "id": "024ba716",
   "metadata": {},
   "outputs": [],
   "source": [
    "# 2) Split into chunks \n",
    "splitter = RecursiveCharacterTextSplitter(chunk_size=1000, chunk_overlap = 200)\n",
    "chunks = splitter.split_documents(docs)"
   ]
  },
  {
   "cell_type": "code",
   "execution_count": null,
   "id": "dbb70ef6",
   "metadata": {},
   "outputs": [],
   "source": [
    "# 3-A) Create Embeddings - Sentenace Transformer Embeddings\n",
    "embeddings = HuggingFaceBgeEmbeddings(model_name='all-MiniLM-L12-v2', model_kwargs={'device':'cuda'})\n",
    "embeddings"
   ]
  },
  {
   "cell_type": "code",
   "execution_count": null,
   "id": "5afc42f3",
   "metadata": {},
   "outputs": [],
   "source": [
    "# 4) Store Vector Embeddings\n",
    "vectordb = FAISS.from_documents(chunks, embeddings)\n",
    "vectordb.save_local(\"faiss_all_minilm\")"
   ]
  },
  {
   "cell_type": "code",
   "execution_count": null,
   "id": "5dcb2390",
   "metadata": {},
   "outputs": [],
   "source": [
    "# 5) Retrieve \n",
    "retrieve = vectordb.as_retriever(search_type = 'similarity', search_kwargs={\"k\":10})\n",
    "retrieve"
   ]
  },
  {
   "cell_type": "code",
   "execution_count": null,
   "id": "1a8b7244",
   "metadata": {},
   "outputs": [],
   "source": [
    "from dotenv import load_dotenv\n",
    "# ---------- Load env var ----------\n",
    "load_dotenv()\n",
    "\n",
    "API_KEYS = os.getenv(\"GEMINI_API_KEYS\", \"\").split(\",\")\n",
    "API_KEYS = [k.strip() for k in API_KEYS if k.strip()]\n",
    "current_key_index = 0\n",
    "ACCESS_KEY = os.getenv(\"APP_ACCESS_KEY\")\n",
    "\n",
    "if not API_KEYS:\n",
    "    print(\"❌ No Gemini API keys found. Check .env file.\")\n",
    "    raise Exception(\"Missing GEMINI_API_KEYS\")"
   ]
  },
  {
   "cell_type": "code",
   "execution_count": null,
   "id": "3eeb85a0",
   "metadata": {},
   "outputs": [],
   "source": [
    "# System Prompt\n",
    "system_prompt = \"\"\"\n",
    "You are an Islamic history assistant. \n",
    "Always answer in a respectful and storytelling way. \n",
    "If the answer is not in the documents, say \"I don’t know based on my knowledge.\"\n",
    "Question: {question}\n",
    "Context: {context}\n",
    "Answer:\n",
    "\"\"\"\n",
    "\n",
    "prompt = PromptTemplate(\n",
    "    input_variables=[\"question\", \"context\"],\n",
    "    template=system_prompt\n",
    ")"
   ]
  },
  {
   "cell_type": "code",
   "execution_count": null,
   "id": "53238aac",
   "metadata": {},
   "outputs": [],
   "source": [
    "# 6) LLM and QA\n",
    "llm = ChatGoogleGenerativeAI(\n",
    "    model='gemini-2.5-flash',\n",
    "    temperature=0,\n",
    "    api_key=os.getenv('GEMINI_KEY_KEY', '')\n",
    ")\n",
    "\n",
    "qa = RetrievalQA.from_chain_type(\n",
    "    llm = llm,\n",
    "    retriever = retrieve,\n",
    "    return_source_documents=False,\n",
    "    chain_type_kwargs = {\"prompt\":prompt}\n",
    ")"
   ]
  },
  {
   "cell_type": "code",
   "execution_count": null,
   "id": "42859b98",
   "metadata": {},
   "outputs": [],
   "source": [
    "# 7) Ask\n",
    "query = \"Why Adam was named Adam? Give reference to it as well\"\n",
    "res = qa.run(query)\n",
    "print(res)"
   ]
  },
  {
   "cell_type": "code",
   "execution_count": null,
   "id": "8e793514",
   "metadata": {},
   "outputs": [],
   "source": [
    "q1 = \"Why Adam was named Adam? Explain in details\"\n",
    "res = qa.run(q1)\n",
    "print(res)"
   ]
  },
  {
   "cell_type": "code",
   "execution_count": null,
   "id": "0db6352d",
   "metadata": {},
   "outputs": [],
   "source": [
    "import torch\n",
    "print(torch.__version__)\n",
    "print(torch.cuda.is_available())"
   ]
  },
  {
   "cell_type": "markdown",
   "id": "499c9320",
   "metadata": {},
   "source": [
    "## **Pinecone Storage**"
   ]
  },
  {
   "cell_type": "code",
   "execution_count": null,
   "id": "5188a1ec",
   "metadata": {},
   "outputs": [],
   "source": [
    "from langchain_community.document_loaders import PyMuPDFLoader\n",
    "from langchain_text_splitters import RecursiveCharacterTextSplitter\n",
    "from langchain_huggingface import HuggingFaceEmbeddings\n",
    "from langchain_pinecone import PineconeVectorStore\n",
    "from pinecone import Pinecone as PineconeBaseClient\n",
    "import os\n",
    "from dotenv import load_dotenv"
   ]
  },
  {
   "cell_type": "code",
   "execution_count": 9,
   "id": "86e52e66",
   "metadata": {},
   "outputs": [],
   "source": [
    "load_dotenv()\n",
    "pc = PineconeBaseClient(api_key=os.getenv(\"PINECONE_API_KEY\"))\n",
    "INDEX_NAME = os.getenv(\"PINECONE_INDEX_NAME\")\n",
    "index = pc.Index(INDEX_NAME)\n"
   ]
  },
  {
   "cell_type": "markdown",
   "id": "bb4f643b",
   "metadata": {},
   "source": [
    "### **Vectorinze Single PDF**"
   ]
  },
  {
   "cell_type": "code",
   "execution_count": 20,
   "id": "63713a37",
   "metadata": {},
   "outputs": [
    {
     "ename": "ValueError",
     "evalue": "File path Hayat-al-Qulub-Vol-1.pdf is not a valid file or url",
     "output_type": "error",
     "traceback": [
      "\u001b[31m---------------------------------------------------------------------------\u001b[39m",
      "\u001b[31mValueError\u001b[39m                                Traceback (most recent call last)",
      "\u001b[36mCell\u001b[39m\u001b[36m \u001b[39m\u001b[32mIn[20]\u001b[39m\u001b[32m, line 4\u001b[39m\n\u001b[32m      1\u001b[39m \u001b[38;5;66;03m# ---------- begin of pipelines ----------\u001b[39;00m\n\u001b[32m      2\u001b[39m \u001b[38;5;66;03m# load pdf\u001b[39;00m\n\u001b[32m      3\u001b[39m pdf_path = \u001b[33m'\u001b[39m\u001b[33mHayat-al-Qulub-Vol-1.pdf\u001b[39m\u001b[33m'\u001b[39m\n\u001b[32m----> \u001b[39m\u001b[32m4\u001b[39m loader = \u001b[43mPyMuPDFLoader\u001b[49m\u001b[43m(\u001b[49m\u001b[43mpdf_path\u001b[49m\u001b[43m)\u001b[49m\n\u001b[32m      5\u001b[39m docs = loader.load()\n",
      "\u001b[36mFile \u001b[39m\u001b[32mc:\\Users\\sadiq\\OneDrive\\Documents\\projects\\rag-for-Hayatal-Qulub\\venv\\Lib\\site-packages\\langchain_community\\document_loaders\\pdf.py:822\u001b[39m, in \u001b[36mPyMuPDFLoader.__init__\u001b[39m\u001b[34m(self, file_path, password, mode, pages_delimiter, extract_images, images_parser, images_inner_format, extract_tables, headers, extract_tables_settings, **kwargs)\u001b[39m\n\u001b[32m    820\u001b[39m \u001b[38;5;28;01mif\u001b[39;00m mode \u001b[38;5;129;01mnot\u001b[39;00m \u001b[38;5;129;01min\u001b[39;00m [\u001b[33m\"\u001b[39m\u001b[33msingle\u001b[39m\u001b[33m\"\u001b[39m, \u001b[33m\"\u001b[39m\u001b[33mpage\u001b[39m\u001b[33m\"\u001b[39m]:\n\u001b[32m    821\u001b[39m     \u001b[38;5;28;01mraise\u001b[39;00m \u001b[38;5;167;01mValueError\u001b[39;00m(\u001b[33m\"\u001b[39m\u001b[33mmode must be single or page\u001b[39m\u001b[33m\"\u001b[39m)\n\u001b[32m--> \u001b[39m\u001b[32m822\u001b[39m \u001b[38;5;28;43msuper\u001b[39;49m\u001b[43m(\u001b[49m\u001b[43m)\u001b[49m\u001b[43m.\u001b[49m\u001b[34;43m__init__\u001b[39;49m\u001b[43m(\u001b[49m\u001b[43mfile_path\u001b[49m\u001b[43m,\u001b[49m\u001b[43m \u001b[49m\u001b[43mheaders\u001b[49m\u001b[43m=\u001b[49m\u001b[43mheaders\u001b[49m\u001b[43m)\u001b[49m\n\u001b[32m    823\u001b[39m \u001b[38;5;28mself\u001b[39m.parser = PyMuPDFParser(\n\u001b[32m    824\u001b[39m     password=password,\n\u001b[32m    825\u001b[39m     mode=mode,\n\u001b[32m   (...)\u001b[39m\u001b[32m    832\u001b[39m     extract_tables_settings=extract_tables_settings,\n\u001b[32m    833\u001b[39m )\n",
      "\u001b[36mFile \u001b[39m\u001b[32mc:\\Users\\sadiq\\OneDrive\\Documents\\projects\\rag-for-Hayatal-Qulub\\venv\\Lib\\site-packages\\langchain_community\\document_loaders\\pdf.py:140\u001b[39m, in \u001b[36mBasePDFLoader.__init__\u001b[39m\u001b[34m(self, file_path, headers)\u001b[39m\n\u001b[32m    138\u001b[39m         \u001b[38;5;28mself\u001b[39m.file_path = \u001b[38;5;28mstr\u001b[39m(temp_pdf)\n\u001b[32m    139\u001b[39m \u001b[38;5;28;01melif\u001b[39;00m \u001b[38;5;129;01mnot\u001b[39;00m os.path.isfile(\u001b[38;5;28mself\u001b[39m.file_path):\n\u001b[32m--> \u001b[39m\u001b[32m140\u001b[39m     \u001b[38;5;28;01mraise\u001b[39;00m \u001b[38;5;167;01mValueError\u001b[39;00m(\u001b[33m\"\u001b[39m\u001b[33mFile path \u001b[39m\u001b[38;5;132;01m%s\u001b[39;00m\u001b[33m is not a valid file or url\u001b[39m\u001b[33m\"\u001b[39m % \u001b[38;5;28mself\u001b[39m.file_path)\n",
      "\u001b[31mValueError\u001b[39m: File path Hayat-al-Qulub-Vol-1.pdf is not a valid file or url"
     ]
    }
   ],
   "source": [
    "# ---------- begin of pipelines ----------\n",
    "# load pdf\n",
    "pdf_path = 'Hayat-al-Qulub-Vol-1.pdf'\n",
    "loader = PyMuPDFLoader(pdf_path)\n",
    "docs = loader.load()"
   ]
  },
  {
   "cell_type": "code",
   "execution_count": null,
   "id": "3e7a5276",
   "metadata": {},
   "outputs": [],
   "source": [
    "# split text into chunks\n",
    "splitter = RecursiveCharacterTextSplitter(chunk_size = 1000, chunk_overlap = 200)\n",
    "chunks = splitter.split_documents(docs)"
   ]
  },
  {
   "cell_type": "code",
   "execution_count": null,
   "id": "f4c63413",
   "metadata": {},
   "outputs": [],
   "source": [
    "# create embeddings\n",
    "embeddings = HuggingFaceEmbeddings(\n",
    "    model_name=\"BAAI/bge-large-en-v1.5\", model_kwargs={\"device\": \"cuda\"}\n",
    ")"
   ]
  },
  {
   "cell_type": "code",
   "execution_count": null,
   "id": "80d73ddd",
   "metadata": {},
   "outputs": [],
   "source": [
    "# Store in vector database - FAISS\n",
    "vector_db = FAISS.from_documents(chunks, embeddings)\n",
    "vector_db.save_local(\"Hayat-Qulub-Alama-Majlisi-faiss-index\")"
   ]
  },
  {
   "cell_type": "markdown",
   "id": "e4effc16",
   "metadata": {},
   "source": [
    "### **Vectorize multiple PDFs**"
   ]
  },
  {
   "cell_type": "code",
   "execution_count": 16,
   "id": "ae29ad3f",
   "metadata": {},
   "outputs": [
    {
     "name": "stdout",
     "output_type": "stream",
     "text": [
      "Loaded 0 documents\n",
      "Splitting 0 documents into chunks...\n",
      "splitted 0 documents Successfully! \n",
      "Loaded 2547 chunks from 0 document hayatal-qulub-pdfs/Hayat-al-Qulub-Vol-1.pdf\n",
      "Chunk list filled\n",
      "Total chunks so far: 2547\n",
      "Loaded 1 documents\n",
      "Splitting 1 documents into chunks...\n",
      "splitted 1 documents Successfully! \n",
      "Loaded 3806 chunks from 1 document hayatal-qulub-pdfs/Hayat-al-Qulub-Vol-2.pdf\n",
      "Chunk list filled\n",
      "Total chunks so far: 6353\n",
      "Loaded 2 documents\n",
      "Splitting 2 documents into chunks...\n",
      "splitted 2 documents Successfully! \n",
      "Loaded 1205 chunks from 2 document hayatal-qulub-pdfs/Hayat-al-Qulub-Vol-3.pdf\n",
      "Chunk list filled\n",
      "Total chunks so far: 7558\n"
     ]
    }
   ],
   "source": [
    "#  Store all 3 PDFs in vector database - Pinecone\n",
    "pdfs = [\n",
    "    'hayatal-qulub-pdfs/Hayat-al-Qulub-Vol-1.pdf',\n",
    "    'hayatal-qulub-pdfs/Hayat-al-Qulub-Vol-2.pdf',\n",
    "    'hayatal-qulub-pdfs/Hayat-al-Qulub-Vol-3.pdf'\n",
    "]\n",
    "\n",
    "all_chunks = []\n",
    "for i, pdf in enumerate(pdfs):\n",
    "    loader = PyMuPDFLoader(pdf)\n",
    "    docs = loader.load()\n",
    "    print(f\"Loaded {i} documents\")\n",
    "    \n",
    "    # split text into chunks\n",
    "    print(f\"Splitting {i} documents into chunks...\")\n",
    "    splitter = RecursiveCharacterTextSplitter(chunk_size = 1000, chunk_overlap = 200)\n",
    "    chunks = splitter.split_documents(docs)\n",
    "    print(f\"splitted {i} documents Successfully! \")\n",
    "    print(f\"Loaded {len(chunks)} chunks from {i} document {pdf}\")\n",
    "\n",
    "    all_chunks.extend(chunks)\n",
    "    print(f\"Chunk list filled\")\n",
    "    print(f\"Total chunks so far: {len(all_chunks)}\")\n",
    "    \n"
   ]
  },
  {
   "cell_type": "code",
   "execution_count": null,
   "id": "45228f05",
   "metadata": {},
   "outputs": [],
   "source": [
    "# create embeddings\n",
    "embeddings = HuggingFaceEmbeddings(\n",
    "    model_name=\"BAAI/bge-large-en-v1.5\", model_kwargs={\"device\": \"cuda\"}\n",
    ")\n"
   ]
  },
  {
   "cell_type": "code",
   "execution_count": null,
   "id": "e4edaa29",
   "metadata": {},
   "outputs": [],
   "source": [
    "# Store in vector database - Pinecone\n",
    "vector_db = PineconeVectorStore.from_documents(documents=all_chunks, embedding=embeddings, index_name=INDEX_NAME)\n",
    "pinecone_store = vector_db"
   ]
  },
  {
   "cell_type": "code",
   "execution_count": 19,
   "id": "26e534d5",
   "metadata": {},
   "outputs": [],
   "source": [
    "pinecone_store = vector_db"
   ]
  },
  {
   "cell_type": "markdown",
   "id": "f8115a6b",
   "metadata": {},
   "source": [
    "### **Vectorize multiple PDFs - functions**"
   ]
  },
  {
   "cell_type": "code",
   "execution_count": null,
   "id": "bf8cde0d",
   "metadata": {},
   "outputs": [],
   "source": [
    "def process_pdf_into_chunks(pdfs):\n",
    "    pdfs = list(pdfs)\n",
    "    all_chunks = []\n",
    "    for i, pdf in enumerate(pdfs):\n",
    "        loader = PyMuPDFLoader(pdf)\n",
    "        docs = loader.load()\n",
    "        print(f\"Loaded {i} documents\")\n",
    "        \n",
    "        # split text into chunks\n",
    "        print(f\"Splitting {i} documents into chunks...\")\n",
    "        splitter = RecursiveCharacterTextSplitter(chunk_size = 1000, chunk_overlap = 200)\n",
    "        chunks = splitter.split_documents(docs)\n",
    "        print(f\"splitted {i} documents Successfully! \")\n",
    "        print(f\"Loaded {len(chunks)} chunks from {i} document {pdf}\")\n",
    "\n",
    "        all_chunks.extend(chunks)\n",
    "        print(f\"Chunk list filled\")\n",
    "        print(f\"Total chunks so far: {len(all_chunks)}\")\n",
    "    \n",
    "    return all_chunks\n",
    "\n",
    "def store_chunks_in_pinecone(all_chunks, embedding_model, INDEX_NAME):\n",
    "    # create embeddings\n",
    "    embeddings = HuggingFaceEmbeddings(\n",
    "        model_name=embedding_model, model_kwargs={\"device\": \"cuda\"}\n",
    "    )\n",
    "    print(f\"Created embeddings using model: {embedding_model}\")\n",
    "    \n",
    "    # Store in vector database - Pinecone\n",
    "    pinecone_store = PineconeVectorStore.from_documents(documents=all_chunks, embedding=embeddings, index_name=INDEX_NAME)\n",
    "    print(f\"Stored {len(all_chunks)} chunks in Pinecone index: {INDEX_NAME}\")\n",
    "    return pinecone_store\n"
   ]
  },
  {
   "cell_type": "markdown",
   "id": "920a2c22",
   "metadata": {},
   "source": [
    "### **Retrieve QA**"
   ]
  },
  {
   "cell_type": "code",
   "execution_count": 9,
   "id": "87829124",
   "metadata": {},
   "outputs": [],
   "source": [
    "import os \n",
    "from dotenv import load_dotenv\n",
    "from pinecone import Pinecone as PineconeBaseClient\n",
    "from langchain_pinecone import PineconeVectorStore\n",
    "from langchain_huggingface import HuggingFaceEmbeddings\n",
    "\n",
    "from langchain_core.prompts import ChatPromptTemplate\n",
    "from langchain_core.output_parsers import StrOutputParser\n",
    "from langchain_core.runnables import RunnablePassthrough\n",
    "from langchain_google_genai import ChatGoogleGenerativeAI\n",
    "from langchain_openai import ChatOpenAI\n",
    "\n",
    "load_dotenv()\n",
    "\n",
    "# Setup Pinecone\n",
    "pc = PineconeBaseClient(api_key=os.getenv(\"PINECONE_API_KEY\"))\n",
    "INDEX_NAME = os.getenv(\"PINECONE_INDEX_NAME\")\n",
    "index = pc.Index(INDEX_NAME)\n",
    "\n",
    "# create embeddings\n",
    "embeddings = HuggingFaceEmbeddings(\n",
    "    model_name=\"BAAI/bge-large-en-v1.5\", model_kwargs={\"device\": \"cpu\"}\n",
    ")\n",
    "\n",
    "pinecone_store = PineconeVectorStore.from_existing_index(\n",
    "    index_name=INDEX_NAME, \n",
    "    embedding=embeddings)\n",
    "\n",
    "# Create retriever from Pinecone\n",
    "retrieve = pinecone_store.as_retriever(\n",
    "    search_type='similarity', \n",
    "    search_kwargs={\"k\": 10}\n",
    ")\n",
    "\n",
    "# System Prompt\n",
    "system_prompt = \"\"\"\n",
    "You are an Islamic history assistant. \n",
    "Always answer in a respectful and storytelling way. \n",
    "You have to understand the context deeply and answer accordingly.\n",
    "If the answer is not in the documents, say \"I don't know based on my knowledge.\"\n",
    "Question: {question}\n",
    "Context: {context}\n",
    "Answer:\n",
    "\"\"\"\n",
    "prompt = ChatPromptTemplate.from_template(system_prompt)\n",
    "\n",
    "# LLM and QA\n",
    "llm = ChatGoogleGenerativeAI(\n",
    "    model='gemini-2.0-flash-exp',\n",
    "    temperature=0,\n",
    "    api_key=os.getenv('GEMINI_API_KEY')\n",
    ")\n",
    "\n",
    "# llm = ChatOpenAI(\n",
    "#     model_name='gpt-4o', \n",
    "#     temperature=0,\n",
    "#     api_key=os.getenv('OPEN_AI_KEY')\n",
    "# )\n",
    "\n",
    "def format_docs(docs):\n",
    "    return \"\\n\\n\".join([doc.page_content for doc in docs])\n",
    "\n",
    "input = {\"context\": retrieve | format_docs, \n",
    "      \"question\": RunnablePassthrough()\n",
    "      }\n",
    "\n",
    "\n",
    "qa_chain = ( input| prompt | llm | StrOutputParser())\n"
   ]
  },
  {
   "cell_type": "code",
   "execution_count": null,
   "id": "cab547dd",
   "metadata": {},
   "outputs": [
    {
     "name": "stdout",
     "output_type": "stream",
     "text": [
      "In the tapestry of Islamic history, the naming of Adam is a tale woven with profound meaning.\n",
      "\n",
      "It is narrated through authentic chains that Imam Muhammad al-Baqir and Ja‘far as-Sadiq (peace be upon them) said, \"Adam was named ‘Adam’ because he was ‘Adeemul Arz’, that is he was created from the face of the earth (from dust).\"\n",
      "\n",
      "So, Adam's name is intrinsically linked to his origin, a reminder of the humble earth from which he was formed.\n"
     ]
    }
   ],
   "source": [
    "# Ask a question\n",
    "query = \"Why Adam was named Adam? Give reference to it as well\"\n",
    "res = qa_chain.invoke(query)\n",
    "\n",
    "print(res)"
   ]
  },
  {
   "cell_type": "code",
   "execution_count": 13,
   "id": "fadac881",
   "metadata": {},
   "outputs": [
    {
     "name": "stdout",
     "output_type": "stream",
     "text": [
      "Aapka sawaal Hayat-ul-Qulub ke baare mein hai. Chaliye, main aapko iske baare mein tafseel se batata hoon:\n",
      "\n",
      "**Hayat-ul-Qulub kisne likhi hai?**\n",
      "\n",
      "Hayat-ul-Qulub Allama Muhammad Baqir Majlisi (Rehmatullah Alaih) ne likhi hai. Allama Majlisi ek mashhoor Islamic scholar aur Muhaddith the.\n",
      "\n",
      "**Ye kitab kiske baare mein hai?**\n",
      "\n",
      "Ye kitab Ambiya (Prophets), Aimma (Imams), aur deegar buzurg hastiyon ke ahwaal (life events) aur fazail (virtues) par mabni hai. Isme unke zindagi ke waqiyat, unke akhlaq, aur unke maqamat ko tafseel se bayan kiya gaya hai.\n",
      "\n",
      "**Is kitab ki kitni jildhein (volumes) hain?**\n",
      "\n",
      "Hayat-ul-Qulub ki teen jildhein hain. Har jildh mein mukhtalif anbiya aur aimma ke baare mein tafseeli malumaat hain.\n",
      "\n",
      "**Har jildh ka mukhtasar khulasa (brief summary):**\n",
      "\n",
      "*   **Jildh 1:** Is jildh mein Ambiya-e-Kiram (Prophets) ke ahwaal bayan kiye gaye hain, jaise Hazrat Adam (A.S.), Hazrat Nuh (A.S.), Hazrat Ibrahim (A.S.), Hazrat Musa (A.S.), aur Hazrat Isa (A.S.). Har Nabi ki zindagi ke aham waqiyat aur unki ummat ke liye unke paighamat ko tafseel se bayan kiya gaya hai.\n",
      "*   **Jildh 2:** Is jildh mein Khatim-ul-Anbiya, Hazrat Muhammad Mustafa (S.A.W.) ki zindagi ke ahwaal bayan kiye gaye hain. Aapki wiladat se lekar aapki wafaat tak ke tamam aham waqiyat, aapke akhlaq, aapke mojizaat, aur aapki ummat ke liye aapki nasihaton ko tafseel se bayan kiya gaya hai.\n",
      "*   **Jildh 3:** Is jildh mein Aimma-e-Ahle Bait (A.S.) ke ahwaal bayan kiye gaye hain, jaise Imam Ali (A.S.), Imam Hasan (A.S.), Imam Hussain (A.S.), aur baqi tamam Aimma (A.S.). Har Imam ki zindagi ke aham waqiyat, unke fazail, aur unke maqamat ko tafseel se bayan kiya gaya hai.\n",
      "\n",
      "Hayat-ul-Qulub ek behtareen kitab hai jo Ambiya aur Aimma ke baare mein malumaat haasil karne ke liye nihayat mufeed hai. Is kitab ko padhne se insaan ke imaan mein izafa hota hai aur usko apni zindagi ko behtar tareeqe se guzarne ki hidayat milti hai.\n"
     ]
    }
   ],
   "source": [
    "query1 = \"\"\"\n",
    "Kisne likh hai Hayatal Qulub? kiske bare me hai ye kitab? \n",
    "kitni jildhe hai iske aur kya har ek jildh ko short me smjha sakte ho?\n",
    "\"\"\"\n",
    "res2 = qa_chain.invoke(query1)\n",
    "print(res2)"
   ]
  },
  {
   "cell_type": "code",
   "execution_count": null,
   "id": "81957866",
   "metadata": {},
   "outputs": [],
   "source": [
    "# quick check for any embedding wrapper you plan to use\n",
    "vec = embeddings.embed_query(\"test\")\n",
    "print(\"type:\", type(vec))\n",
    "print(\"len:\", len(vec))   # MUST be 1024 to match your Pinecone index"
   ]
  },
  {
   "cell_type": "code",
   "execution_count": null,
   "id": "52496e42",
   "metadata": {},
   "outputs": [],
   "source": []
  },
  {
   "cell_type": "markdown",
   "id": "391fab36",
   "metadata": {},
   "source": [
    "## **Sulaym ibne Qays RAG**"
   ]
  },
  {
   "cell_type": "markdown",
   "id": "832f0de4",
   "metadata": {},
   "source": [
    "### **RAG Pipeline**"
   ]
  },
  {
   "cell_type": "code",
   "execution_count": 5,
   "id": "8b595684",
   "metadata": {},
   "outputs": [
    {
     "name": "stderr",
     "output_type": "stream",
     "text": [
      "c:\\Users\\sadiq\\OneDrive\\Documents\\projects\\rag-for-Hayatal-Qulub\\venv\\Lib\\site-packages\\langchain_pinecone\\__init__.py:3: LangChainDeprecationWarning: As of langchain-core 0.3.0, LangChain uses pydantic v2 internally. The langchain_core.pydantic_v1 module was a compatibility shim for pydantic v1, and should no longer be used. Please update the code to import from Pydantic directly.\n",
      "\n",
      "For example, replace imports like: `from langchain_core.pydantic_v1 import BaseModel`\n",
      "with: `from pydantic import BaseModel`\n",
      "or the v1 compatibility namespace if you are working in a code base that has not been fully upgraded to pydantic 2 yet. \tfrom pydantic.v1 import BaseModel\n",
      "\n",
      "  from langchain_pinecone.vectorstores import Pinecone, PineconeVectorStore\n"
     ]
    }
   ],
   "source": [
    "from langchain_community.document_loaders import PyMuPDFLoader\n",
    "from langchain_text_splitters import RecursiveCharacterTextSplitter\n",
    "from langchain_huggingface import HuggingFaceEmbeddings\n",
    "from langchain_pinecone import PineconeVectorStore\n",
    "from pinecone import Pinecone as PineconeBaseClient\n",
    "from dotenv import load_dotenv\n",
    "import os"
   ]
  },
  {
   "cell_type": "code",
   "execution_count": 6,
   "id": "ec5a18ce",
   "metadata": {},
   "outputs": [],
   "source": [
    "load_dotenv()\n",
    "\n",
    "pc = PineconeBaseClient(api_key=os.getenv(\"PINECONE_API_KEY\"))\n",
    "INDEX_NAME = os.getenv(\"PINECONE_INDEX_NAME_SQ\")\n",
    "index = pc.Index(INDEX_NAME)"
   ]
  },
  {
   "cell_type": "code",
   "execution_count": 33,
   "id": "ccabc29b",
   "metadata": {},
   "outputs": [],
   "source": [
    "def process_pdf_into_chunks(pdfs: list):\n",
    "    print(f'Count of Documents - {len(pdfs)}')\n",
    "\n",
    "    all_chunks = []\n",
    "    for i, pdf in enumerate(pdfs):\n",
    "        i=+1\n",
    "        loader = PyMuPDFLoader(pdf)\n",
    "        docs = loader.load()\n",
    "        print(f\"Loaded {i} document successfully\")\n",
    "\n",
    "        # split into chunks\n",
    "        splitter = RecursiveCharacterTextSplitter(chunk_size = 1000, chunk_overlap = 200)\n",
    "        chunks = splitter.split_documents(docs)\n",
    "        print(f\"Splitted {i} documment successfully!\")\n",
    "\n",
    "        all_chunks.extend(chunks)\n",
    "        print(f\"Total chunks so far: {len(all_chunks)}\")\n",
    "\n",
    "    return all_chunks\n",
    "    \n",
    "def store_chunks_in_pinecone(all_chunks, embedding_model, INDEX_NAME):\n",
    "     #create embeddings\n",
    "\n",
    "    embeddings = HuggingFaceEmbeddings(\n",
    "        model_name = 'BAAI/bge-large-en-v1.5', model_kwargs={\"device\": \"cuda\"} \n",
    "        )\n",
    "    print(f\"Created embeddings using model: {embedding_model}\")\n",
    "\n",
    "    # Store in vector database - Pinecone\n",
    "    pinecone_store = PineconeVectorStore.from_documents(\n",
    "        documents=all_chunks,\n",
    "        embedding=embeddings,\n",
    "        index_name=INDEX_NAME\n",
    "    )\n",
    "    print(f\"Stored {len(all_chunks)} chunks in Pinecone index: {INDEX_NAME}\")\n",
    "    return pinecone_store\n",
    "    "
   ]
  },
  {
   "cell_type": "code",
   "execution_count": 34,
   "id": "cc478a76",
   "metadata": {},
   "outputs": [
    {
     "name": "stdout",
     "output_type": "stream",
     "text": [
      "Count of Documents - 1\n",
      "Loaded 1 document successfully\n",
      "Splitted 1 documment successfully!\n",
      "Total chunks so far: 753\n"
     ]
    }
   ],
   "source": [
    "chunks = process_pdf_into_chunks(pdfs=['kitab_sulaim_ibn_qays_al-hilaali.pdf'])"
   ]
  },
  {
   "cell_type": "code",
   "execution_count": 35,
   "id": "90bc1d9e",
   "metadata": {},
   "outputs": [
    {
     "name": "stdout",
     "output_type": "stream",
     "text": [
      "Created embeddings using model: BAAI/bge-large-en-v1.5\n",
      "Stored 753 chunks in Pinecone index: sulaym-ibne-qays\n"
     ]
    }
   ],
   "source": [
    "vector_store = store_chunks_in_pinecone(chunks, 'BAAI/bge-large-en-v1.5', INDEX_NAME)"
   ]
  },
  {
   "cell_type": "markdown",
   "id": "9add8e57",
   "metadata": {},
   "source": [
    "### **Retrieve QA**"
   ]
  },
  {
   "cell_type": "code",
   "execution_count": null,
   "id": "faa8ee82",
   "metadata": {},
   "outputs": [],
   "source": [
    "import os\n",
    "from dotenv import load_dotenv\n",
    "from pinecone import Pinecone as PineconeBaseClient\n",
    "from langchain_pinecone import PineconeVectorStore\n",
    "from langchain_huggingface import HuggingFaceEmbeddings\n",
    "\n",
    "from langchain_core.prompts import ChatPromptTemplate\n",
    "from langchain_core.output_parsers import StrOutputParser\n",
    "from langchain_core.runnables import RunnablePassthrough\n",
    "from langchain_google_genai import ChatGoogleGenerativeAI\n",
    "from langchain.memory import ConversationBufferMemory\n",
    "\n",
    "\n",
    "from system_prompt import system_prompt_text\n",
    "load_dotenv()\n",
    "\n",
    "# Setup Pinecone\n",
    "pc = PineconeBaseClient(api_key=os.getenv(\"PINECONE_API_KEY\"))\n",
    "INDEX_NAME = os.getenv(\"PINECONE_INDEX_NAME_SQ\")\n",
    "index = pc.Index(INDEX_NAME)\n",
    "\n",
    "# create embeddings\n",
    "embeddings = HuggingFaceEmbeddings(\n",
    "    model_name=\"BAAI/bge-large-en-v1.5\", model_kwargs={\"device\": \"cpu\"}\n",
    ")\n",
    "\n",
    "pinecone_store = PineconeVectorStore.from_existing_index(\n",
    "    index_name=INDEX_NAME, \n",
    "    embedding=embeddings)\n",
    "\n",
    "# Create retriever from Pinecone\n",
    "retrieve = pinecone_store.as_retriever(\n",
    "    search_type='similarity',\n",
    "    search_kwargs={\"k\": 10}\n",
    ")\n",
    "\n",
    "# System Prompt\n",
    "system_prompt = system_prompt_text\n",
    "\n",
    "prompt = ChatPromptTemplate.from_template(system_prompt)\n",
    "\n",
    "memory = ConversationBufferMemory(\n",
    "    memory_key=\"chat_history\", \n",
    "    return_messages=True)\n",
    "\n",
    "# LLM and QA\n",
    "llm = ChatGoogleGenerativeAI(\n",
    "    model='gemini-2.0-flash-exp',\n",
    "    temperature=0,\n",
    "    api_key=os.getenv('GEMINI_API_KEY')\n",
    ")\n",
    "\n",
    "def format_docs(docs):\n",
    "    return \"\\n\\n\".join([doc.page_content for doc in docs])\n",
    "\n",
    "def get_chat_history():\n",
    "    history = memory.load_memory_variables({})\n",
    "    if history.get(\"chat_history\"):\n",
    "        return \"\\n\".join([str(msg.content) for msg in history[\"chat_history\"]])\n",
    "    return \"No previous conversation.\"\n",
    "\n",
    "\n",
    "input = {\"context\": retrieve | format_docs, \n",
    "        \"question\": RunnablePassthrough(),\n",
    "        \"chat_history\": lambda x: get_chat_history()\n",
    "      }\n",
    "\n",
    "qa_chain = ( input | prompt | llm | StrOutputParser())\n",
    "\n",
    "# Function to run the chain with memory\n",
    "def chat(question: str) -> str:\n",
    "    \"\"\"Run the QA chain and save to memory\"\"\"\n",
    "    response = qa_chain.invoke(question)\n",
    "    \n",
    "    # Save to memory\n",
    "    memory.save_context(\n",
    "        {\"input\": question},\n",
    "        {\"output\": response}\n",
    "    )\n",
    "    \n",
    "    return response"
   ]
  },
  {
   "cell_type": "code",
   "execution_count": 5,
   "id": "6e4d0dc9",
   "metadata": {},
   "outputs": [
    {
     "data": {
      "text/markdown": [
       "According to the traditions, Janabe Sulaym ibne Qays narrated that after the Holy Prophet (SAW) passed away, Umar did not permit people to pay condolences to Hadhrat Ali (AS) and Lady Fatimah (AS). He was not permitting them to enter. They returned, but Qunfuz, the cursed, remained. His companions told that Lady Fatimah had said such and such, and she was not permitting them to enter. Umar said angrily: “What do we have to do with women?”\n",
       "\n",
       "Then Umar told those people who had gathered around him to collect wood. They all collected, and Umar himself lifted and went to the house of Hadhrat Ali (AS), Lady Fatimah (AS) and their two sons, and arranged wood all around the house and then said in a voice loud enough to make Hadhrat Ali (AS) and Lady Fatimah (AS) hear: “By God, O Ali, come out and pay allegiance to the caliph of the Holy Prophet of Allah, otherwise we will burn your house.”\n",
       "\n",
       "Lady Fatimah (AS) said: “O Umar, what do you have to do with us?”\n",
       "\n",
       "He replied: “Open the door, otherwise we will burn your house.”\n",
       "\n",
       "Lady Fatimah (AS) said: “O Umar, are you not afraid of Allah and are you entering our house?” (Page 86)\n",
       "\n",
       "According to the traditions, Janabe Sulaym ibne Qays narrated that Umar sent for fire, and set the door alight and then Umar pushed it. Then Fatimah (AS) came in front of him and screamed; “O father, O Messenger of Allah!” So he (Umar) raised his sword which was in the cover and hurt her in her side. She screamed, and he lifted whip and hit her hand. She screamed; “O father!” Ali ibn Abi Talib (AS) ran and held Umar by his neck. Then he moved him and made him fall and twisted his nose and neck and intended to kill him. At that time he remembered what the Holy Prophet (SAW) had told him and mentioned in the will for patience and obedience, and said: “By Him, who held Muhammad high with Prophethood, O ibn Sahhak, if this written thing had not passed, then you would have known that you cannot enter my house.”\n",
       "\n",
       "Umar sent someone for help. People came and entered the house. Khalid ibn Walid lifted the sword to hit Fatimah (AS), so Ali (AS) attacked him. He held Ali (AS) under oath, so he stopped.\n",
       "\n",
       "Miqdad, Salman, Abu Dhar, AMmar, and Buraydah Aslami came and entered the house to help Ali (AS). It was very near that fight would start. So (Page 91)\n",
       "\n",
       "According to the traditions, Janabe Sulaym ibne Qays narrated from Salman that they pulled Ali (AS) by force until they brought him to Abu Bakr. when Umar was standing with a sword behind Abu Bakr Khalid ibn Walid, Abu Ubaydah ibn Jarrah and Salim Mawla Abu Huzayfah, Mughirah ibn Sha’aba and others were sitting near Abu Bakr with weapons in their hands.”\n",
       "\n",
       "Sulaym says: “I asked Salman: “Did these people enter the house of Lady Fatimah (AS) without permission?” He replied: “Yes, by God, when she did not even have a chaddar over her. So she screamed: “O Father, O Prophet of Allah, Abu Bakr and Umar behaved so badly after you, while your eyes have not even closed in the grave” and she was saying this loudly.” (Page 92)"
      ],
      "text/plain": [
       "<IPython.core.display.Markdown object>"
      ]
     },
     "metadata": {},
     "output_type": "display_data"
    }
   ],
   "source": [
    "from IPython.display import display, Markdown\n",
    "# Ask a question\n",
    "query = \"Few people attacked the house of Lady Fatimah (SA) and burned the door. what was the entire incident? Explain in details. also provide references like hadith no and page.\"\n",
    "res = chat(query)\n",
    "display(Markdown(res))"
   ]
  },
  {
   "cell_type": "code",
   "execution_count": 3,
   "id": "09753d1a",
   "metadata": {},
   "outputs": [
    {
     "data": {
      "text/markdown": [
       "According to the traditions, Janabe Sulaym ibne Qays narrated that Abu Amir Al Bara ibn Adhib-al Ansari Al Khadhraji, who participated in 14 wars along with the Holy Prophet (PBUH), said:\n",
       "\n",
       "1. \"I did not think that this matter (caliphate) would pass away from Bani Hashem, and from Abul Hasan.\n",
       "2. Is he not the first person to recite prayer in the direction of your Qibla? And is he not the one who knows, better than everyone, all Ahadith and Traditions?\n",
       "3. And he is nearest to the Holy Prophet (SAW) and he is the one who was helped by Jibra’eel in the bathing and shrouding.\n",
       "4. And he is the one who has everything that people have, but people do not have merits that he has.\n",
       "5. Ali (AS) is he, and for what you kept away this (caliphate) from Him, I know it. This allegiance of yours is the first fitnah.\" (Page 14)\n",
       "\n",
       "This narration from Kitab Sulaym ibn Qays highlights the sentiments of Abu Amir Al Bara ibn Adhib-al Ansari Al Khadhraji, a companion of the Prophet Muhammad (PBUH) who fought in 14 battles alongside him. It expresses his surprise and disapproval at the caliphate not being given to Imam Ali (AS) after the Prophet's (PBUH) passing.\n",
       "\n",
       "The narration emphasizes several key points:\n",
       "\n",
       "*   **Lineage and Right to Caliphate:** Abu Amir expresses his astonishment that the caliphate was diverted from Bani Hashem, the Prophet's (PBUH) clan, and specifically from Imam Ali (AS), referred to as \"Abul Hasan.\" This suggests a belief that the Prophet's (PBUH) family had a natural or divinely ordained right to leadership.\n",
       "*   **Precedence in Islam:** He highlights Imam Ali's (AS) early embrace of Islam, noting that he was the first to pray towards the Qibla (direction of prayer). This underscores Imam Ali's (AS) dedication and commitment to Islam from its inception.\n",
       "*   **Knowledge and Authority:** Abu Amir emphasizes Imam Ali's (AS) unparalleled knowledge of the Ahadith (sayings and traditions of the Prophet) and traditions. This suggests that Imam Ali (AS) was uniquely qualified to lead the Muslim community due to his deep understanding of Islamic teachings.\n",
       "*   **Proximity to the Prophet (PBUH):** He points out Imam Ali's (AS) close relationship with the Prophet (PBUH), mentioning that he was the one assisted by Jibra'eel (Gabriel) in the bathing and shrouding of the Prophet's (PBUH) body. This highlights Imam Ali's (AS) special status and the trust placed in him by the Prophet (PBUH).\n",
       "*   **Unique Merits:** Abu Amir asserts that Imam Ali (AS) possesses all the qualities that others have, but others do not possess the unique merits that he has. This suggests that Imam Ali (AS) was superior to others in terms of virtue, knowledge, and leadership qualities.\n",
       "*   **Rejection of Imam Ali (AS) as a Fitnah:** Finally, Abu Amir states that he knows the reason why the caliphate was kept away from Imam Ali (AS) and declares the allegiance given to others as the \"first fitnah\" (trial or tribulation). This indicates his belief that the decision to exclude Imam Ali (AS) from leadership was a grave mistake that led to discord and division within the Muslim community.\n",
       "\n",
       "In essence, this narration reflects the perspective of a devoted companion of the Prophet (PBUH) who believed that Imam Ali (AS) was the most deserving candidate for leadership after the Prophet's (PBUH) death and that the decision to bypass him was a significant deviation from the right path."
      ],
      "text/plain": [
       "<IPython.core.display.Markdown object>"
      ]
     },
     "metadata": {},
     "output_type": "display_data"
    }
   ],
   "source": [
    "query = \"Explain the Hadith no 1 exactly in detail\"\n",
    "res = qa_chain.invoke(query)\n",
    "display(Markdown(res))"
   ]
  },
  {
   "cell_type": "code",
   "execution_count": 5,
   "id": "a9d3374a",
   "metadata": {},
   "outputs": [
    {
     "data": {
      "text/markdown": [
       "According to the traditions, Janabe Sulaym ibne Qays narrated that Imam Ali (AS) said during the month of Ramadhan, and this is that month in which he was martyred, when he was between his two sons Hasan and Husain (AS) and amid the children of Abdullah ibn Ja’afer ibn Abi Talib and his special Shias. He said: \"Leave people to what they want for themselves. You people choose silence when it is your enemy’s kingdom, because with what ever you are connected to will not remain secret from them and the enemy is oppressor and jealous.\n",
       "\n",
       "People are of three types. One type is illuminated with our light (Noor), and one type is eating through us and one is that who has been guided through us and obeyed our Amr. These are very few in this type. These are those who are Shias, noble, people of patience, are learned, jurist, pious and generous. For them there is happiness and also a tree in heaven, and wherever they go, the place will be very good.” (Page 151)"
      ],
      "text/plain": [
       "<IPython.core.display.Markdown object>"
      ]
     },
     "metadata": {},
     "output_type": "display_data"
    }
   ],
   "source": [
    "query = \"Who are those 3 types of people who understand and accept the Ahle bait (as)?\"\n",
    "res = qa_chain.invoke(query)\n",
    "display(Markdown(res))"
   ]
  },
  {
   "cell_type": "code",
   "execution_count": 43,
   "id": "4d85f9d4",
   "metadata": {},
   "outputs": [
    {
     "name": "stdout",
     "output_type": "stream",
     "text": [
      "From the narrations in Kitab Sulaym ibn Qays, the merits of Imam Ali (AS) are numerous and profound. Here are five, illuminated by the traditions within this esteemed collection:\n",
      "\n",
      "1.  **The First to Accept Islam:** Imam Ali (AS) was the first among the Ummah to embrace Islam. As Imam Ali (AS) himself states, referencing the verse \"{'And the foremost are the foremost, These are drawn nigh (to Allah)' } (Surah Waqia: 10- 11),\" no one preceded him in turning towards Allah and His Prophet (PBUH). This precedence is not merely a matter of historical record, but a testament to his unwavering faith and devotion from the earliest days of Islam.\n",
      "\n",
      "2.  **Unmatched Knowledge and Jurisprudence:** After the passing of the Holy Prophet (PBUH), all were dependent on Imam Ali (AS) for knowledge and jurisprudence, while he remained independent of all others. The Holy Prophet (PBUH) himself imparted knowledge to Imam Ali (AS) privately, day and night, ensuring that he was deeply versed in the Book of Allah and the traditions of the Prophet (PBUH).\n",
      "\n",
      "3.  **Bravest in Wars and Defender of the Prophet (PBUH):** Imam Ali (AS) was always at the forefront, trusted by the Holy Prophet (PBUH) due to his virtues. No difficulty befell the Holy Prophet (PBUH), no problems arose for the Holy Prophet (PBUH) defending against bravery, conquering any fort, but Ali was always sent in forefront. He consistently risked his life to protect the Holy Prophet (PBUH) and defend the nascent Muslim community.\n",
      "\n",
      "4.  **The Brother, Vizier, and Successor of the Prophet (PBUH):** Allah sent a revelation to the Holy Prophet (PBUH) to make Imam Ali (AS) his brother, friend, vizier, successor, and caliph. The Holy Prophet (PBUH) declared that Imam Ali (AS) is, after him, the guardian of all believers. This appointment signifies Imam Ali's (AS) divinely ordained role in guiding the Ummah after the Prophet (PBUH).\n",
      "\n",
      "5.  **The Organizer, Witness, and Guide of the Ummah:** The Holy Prophet (PBUH) said that Ali (AS) is the organizer of this Ummah and is a witness over it and is responsible for its account, and that is the greatest Sign, and is very illuminated road of truth and is Allah's Path. After the Holy Prophet (PBUH), guidance can be got from him after deviation, and through him can the light be achieved from blindness. This highlights Imam Ali's (AS) role as the guiding light for the Ummah, leading them from darkness to enlightenment.\n"
     ]
    }
   ],
   "source": [
    "# Ask a question\n",
    "query = \"\"\"\n",
    "Give me 5 merits of Imam Ali (AS) in Islam with references.\n",
    "\"\"\"\n",
    "res = qa_chain.invoke(query)\n",
    "print(res)"
   ]
  },
  {
   "cell_type": "code",
   "execution_count": 44,
   "id": "a230e530",
   "metadata": {},
   "outputs": [
    {
     "data": {
      "text/markdown": [
       "From the narrations in Kitab Sulaym ibn Qays, the merits of Imam Ali (AS) are numerous and profound. Here are five, illuminated by the traditions within this esteemed collection:\n",
       "\n",
       "1.  **The First to Accept Islam:** Imam Ali (AS) was the first among the Ummah to embrace Islam. As Imam Ali (AS) himself states, referencing the verse \"{'And the foremost are the foremost, These are drawn nigh (to Allah)' } (Surah Waqia: 10- 11),\" no one preceded him in turning towards Allah and His Prophet (PBUH). This precedence is not merely a matter of historical record, but a testament to his unwavering faith and devotion from the earliest days of Islam.\n",
       "\n",
       "2.  **Unmatched Knowledge and Jurisprudence:** After the passing of the Holy Prophet (PBUH), all were dependent on Imam Ali (AS) for knowledge and jurisprudence, while he remained independent of all others. The Holy Prophet (PBUH) himself imparted knowledge to Imam Ali (AS) privately, day and night, ensuring that he was deeply versed in the Book of Allah and the traditions of the Prophet (PBUH).\n",
       "\n",
       "3.  **Bravest in Wars and Defender of the Prophet (PBUH):** Imam Ali (AS) was always at the forefront, trusted by the Holy Prophet (PBUH) due to his virtues. No difficulty befell the Holy Prophet (PBUH), no problems arose for the Holy Prophet (PBUH) defending against bravery, conquering any fort, but Ali was always sent in forefront. He consistently risked his life to protect the Holy Prophet (PBUH) and defend the nascent Muslim community.\n",
       "\n",
       "4.  **The Brother, Vizier, and Successor of the Prophet (PBUH):** Allah sent a revelation to the Holy Prophet (PBUH) to make Imam Ali (AS) his brother, friend, vizier, successor, and caliph. The Holy Prophet (PBUH) declared that Imam Ali (AS) is, after him, the guardian of all believers. This appointment signifies Imam Ali's (AS) divinely ordained role in guiding the Ummah after the Prophet (PBUH).\n",
       "\n",
       "5.  **The Organizer, Witness, and Guide of the Ummah:** The Holy Prophet (PBUH) said that Ali (AS) is the organizer of this Ummah and is a witness over it and is responsible for its account, and that is the greatest Sign, and is very illuminated road of truth and is Allah's Path. After the Holy Prophet (PBUH), guidance can be got from him after deviation, and through him can the light be achieved from blindness. This highlights Imam Ali's (AS) role as the guiding light for the Ummah, leading them from darkness to enlightenment."
      ],
      "text/plain": [
       "<IPython.core.display.Markdown object>"
      ]
     },
     "metadata": {},
     "output_type": "display_data"
    }
   ],
   "source": [
    "from IPython.display import display, Markdown\n",
    "display(Markdown(res))"
   ]
  },
  {
   "cell_type": "code",
   "execution_count": 45,
   "id": "941d4ee3",
   "metadata": {},
   "outputs": [
    {
     "data": {
      "text/markdown": [
       "According to the narrations in Kitab Sulaym ibn Qays, the matter of the 73 sects is a grave one, filled with both warning and hope. Imam Ali (AS) speaks extensively on this topic, clarifying the path to salvation.\n",
       "\n",
       "He (AS) states that this Ummah will be divided into 73 sects, with only one destined for Paradise and the remaining 72 for Hell. This echoes the divisions that plagued the communities of Musa (AS) and Isa (AS), where only those who followed the true successors were saved.\n",
       "\n",
       "The saved sect, as described by Imam Ali (AS), is the one that follows the *wasi* of Prophet Muhammad (PBUH). He (AS) emphasizes that this sect is guided, hopeful, and possesses true *Iman*. They obey commands, are agreeable and intelligent, and trust in him (AS). They recognize his (AS) rights and *Imamat*, understanding that obedience to him (AS) is compulsory according to the Book of Allah and the tradition of the Holy Prophet (PBUH). They do not become apostates and harbor no doubt, for Allah has enlightened their hearts with the knowledge of the Ahlulbayt's rights and merits.\n",
       "\n",
       "Furthermore, Imam Ali (AS) clarifies that this saved sect will not separate from the Quran, and the Quran will not separate from them until they reach the Fountain of the Holy Prophet (PBUH). They are the Ahlulbayt for whom Ibrahim (AS) prayed, as mentioned in Surah Ibrahim.\n",
       "\n",
       "However, it is crucial to understand that merely claiming love for the Ahlulbayt is not enough. Imam Ali (AS) states that even among those who profess love and devotion (*Muwaddah*) for him (AS), many will still be misguided. He (AS) says that out of 13 sects who connect themselves to the love of the Ahlulbayt, only one will reach Paradise, while the other 12 will be in Hell.\n",
       "\n",
       "The key lies in truly understanding and adhering to the *Wilayat* of the Ahlulbayt, recognizing the misguidance of their enemies, and upholding what is lawful and unlawful according to their teachings. This saved sect chooses Allah's Deen, stays away from disagreements in the Ummah, and leaves matters of uncertainty to Allah.\n",
       "\n",
       "In essence, the 73rd sect that will be saved is the one that embodies true faith, unwavering obedience to the Ahlulbayt, and a deep understanding of their divinely ordained role as guides and protectors of the true message of Islam."
      ],
      "text/plain": [
       "<IPython.core.display.Markdown object>"
      ]
     },
     "metadata": {},
     "output_type": "display_data"
    }
   ],
   "source": [
    "# Ask a question\n",
    "query = \"Tell me about the 73rd sect which will go to paradise with references.\"\n",
    "res = qa_chain.invoke(query)\n",
    "#print(res)\n",
    "display(Markdown(res))"
   ]
  },
  {
   "cell_type": "code",
   "execution_count": 46,
   "id": "77bcaf00",
   "metadata": {},
   "outputs": [
    {
     "data": {
      "text/markdown": [
       "Sulaym ibn Qays narrates a profound discussion on the essence of Iman and Islam, a conversation he had directly with Imam Ali (AS). He asked Ameerul Momineen (AS), \"What is Iman and Islam?\"\n",
       "\n",
       "Imam Ali (AS) illuminated the distinction, stating, \"Iman is to understand with knowledge, and accept, and Islam is to accept, bow your head down and obey.\"\n",
       "\n",
       "Sulaym then sought further clarification, asking, \"Does Iman mean to accept after knowledge (Manfah)?\"\n",
       "\n",
       "Imam Ali (AS) affirmed this, explaining, \"He, whom Allah has given knowledge about HIM, His Prophet (PBUH) and His Imam (AS), then he has accepted obedience to Allah – he is a Mumin.\"\n",
       "\n",
       "Sulaym then summarized his understanding, \"That means from Allah is knowledge (Manfah) and from human being is acceptance.\"\n",
       "\n",
       "Imam Ali (AS) confirmed this understanding, elaborating, \"Manfah from Allah means that He calls, and gives authority and obliges and gives bounties, and acceptance of Allah means that the human-being accepts that He is free to oblige whomever He pleases and He develops Manfah in whoever’s heart He wishes.\"\n",
       "\n",
       "This narration highlights the critical role of both divine guidance and human acceptance in achieving true faith. Knowledge bestowed by Allah (SWT) through His Prophet (PBUH) and the Imams (AS) is the foundation, but it is the individual's conscious acceptance and obedience that completes the essence of Iman. Islam, in this context, is the outward manifestation of that inner conviction, expressed through submission and adherence to Allah's (SWT) commands."
      ],
      "text/plain": [
       "<IPython.core.display.Markdown object>"
      ]
     },
     "metadata": {},
     "output_type": "display_data"
    }
   ],
   "source": [
    "# Ask a question\n",
    "query = \"Tell me bout diff between imaan n islam as per hadees.\"\n",
    "res = qa_chain.invoke(query)\n",
    "#print(res)\n",
    "display(Markdown(res))"
   ]
  },
  {
   "cell_type": "code",
   "execution_count": null,
   "id": "38fb4eda",
   "metadata": {},
   "outputs": [
    {
     "data": {
      "text/markdown": [
       "According to the narrations in Kitab Sulaym ibn Qays, the animosity towards the Ahlulbayt (AS) is deeply rooted in the hearts of some, stemming from events like the battles of Badr and Uhud. Imam Ali (AS) spoke of those who harbor malice and seek to overpower the rightful successors of the Prophet (PBUH).\n",
       "\n",
       "Sulaym ibn Qays narrates that Imam Ali (AS) described the state of affairs after the passing of the Prophet (PBUH), saying that the Quraysh had overpowered him and that Umar and his companions had prepared Abu Bakr and paid allegiance to him while he (AS) was occupied with the sacred duties of preparing the Prophet (PBUH) for burial. He (AS) further stated that he reminded the people of his rights and sought their help, but they neither answered nor aided him.\n",
       "\n",
       "The book also mentions Amr ibn al-Aas, who, after the passing of Ibrahim, the son of the Prophet (PBUH), spoke ill of the Prophet (PBUH) and his lineage. This prompted the revelation of Surah Al-Kauther, which assures the Prophet (PBUH) that his enemy will be without posterity.\n",
       "\n",
       "Imam Hasan (AS) was forewarned about the treachery he would face from the Ummah. He was advised to fight if he found helpers, but if not, to restrain himself and preserve his blood, as martyrdom awaited him. The Imam (AS) was also informed that his killer would be an illegitimate child, cursed by Allah.\n",
       "\n",
       "These narrations paint a picture of the trials and tribulations faced by the Ahlulbayt (AS) and their followers, highlighting the importance of remaining steadfast in the face of adversity."
      ],
      "text/plain": [
       "<IPython.core.display.Markdown object>"
      ]
     },
     "metadata": {},
     "output_type": "display_data"
    }
   ],
   "source": [
    "# Ask a question\n",
    "query = \"Tell me bout the accursed clan as per hadees.\"\n",
    "res = qa_chain.invoke(query)\n",
    "#print(res)\n",
    "display(Markdown(res))"
   ]
  },
  {
   "cell_type": "code",
   "execution_count": 49,
   "id": "bfe07c2b",
   "metadata": {},
   "outputs": [
    {
     "data": {
      "text/markdown": [
       "The \"cursed tree\" mentioned in the verse, as Imam Ali (AS) explains, is a trial for mankind. Sulaym ibn Qays narrates that Imam Ali (AS) spoke of the Quraysh and their oppression towards them, the Ahlulbayt (AS). He mentioned the verse, \"And We did not make the vision which We showed you but a trial for men and the cursed tree in the Qur'an.\"\n",
       "\n",
       "This \"cursed tree,\" according to the Imam (AS), refers to those who would usurp the rights of the Ahlulbayt (AS) after the Prophet's (PBUH) passing. They are the ones who would lead people astray and cause great harm to the Ummah. The Holy Prophet (PBUH) informed Imam Ali (AS) that he saw twelve misguiding imams from Quraysh climbed up and down his pulpit, whose faces were like monkeys who are taking his Ummah from Siratul Mustaqeem (the Right Path) back to whom they were."
      ],
      "text/plain": [
       "<IPython.core.display.Markdown object>"
      ]
     },
     "metadata": {},
     "output_type": "display_data"
    }
   ],
   "source": [
    "# Ask a question\n",
    "query = \"Tell me about the accursed tree, shajra e maloon as per hadees.\"\n",
    "res = qa_chain.invoke(query)\n",
    "#print(res)\n",
    "display(Markdown(res))      "
   ]
  },
  {
   "cell_type": "code",
   "execution_count": 50,
   "id": "dd525871",
   "metadata": {},
   "outputs": [
    {
     "data": {
      "text/markdown": [
       "Sulaym ibn Qays narrates a remarkable event that highlights the unique status of Imam Ali (AS). One morning, Amirul Momineen (AS) went to Baqi' with Abu Bakr, Umar, and a community of Muhajireen and Ansar. He stood on a high place, and as the sun rose, he addressed it, saying, \"Salutation, O creature of Allah’s new creation who obeys Him.\"\n",
       "\n",
       "According to this tradition, everyone present heard a voice from the sky responding, \"And salutation be on you as well, O that person, who is Awwal and O he, who is Aakheer, O Zahir, O batin, O he who knows everything.\"\n",
       "\n",
       "The people were astonished and fainted upon hearing this. When they regained consciousness, they went to the Holy Prophet (PBUH) and questioned him about Imam Ali (AS), saying, \"You say that Ali is a man like us, when the sun addressed him in a manner that Allah has addressed Himself.\"\n",
       "\n",
       "The Holy Prophet (PBUH) then confirmed the truth of what they had heard. He explained that the sun's words were accurate:\n",
       "\n",
       "*   \"O Awwal\": He is the first one who brought faith to me.\n",
       "*   \"O Aakheer\": He is the last person of all who will separate from me. He will give me the ritual bath, shroud, and will enter me in my grave.\n",
       "*   \"O Zahir\": All my knowledge became Zahir (clear) for him.\n",
       "*   \"O Batin\": All my secrets are present with him.\n",
       "*   \"O he, who knows everything\": He knows what is lawful and unlawful, and compulsory, tradition, and like it.\n",
       "\n",
       "This narration underscores the profound connection between the Holy Prophet (PBUH) and Imam Ali (AS), and the immense knowledge and spiritual status bestowed upon him."
      ],
      "text/plain": [
       "<IPython.core.display.Markdown object>"
      ]
     },
     "metadata": {},
     "output_type": "display_data"
    }
   ],
   "source": [
    "# Ask a question\n",
    "query = \"Tell me bout imam ali talking to the sun as per whatholy prophet toold him n how dud the sun reolied to imam ali.\"\n",
    "res = qa_chain.invoke(query)\n",
    "#print(res)\n",
    "display(Markdown(res))"
   ]
  },
  {
   "cell_type": "code",
   "execution_count": 51,
   "id": "79cb6a1a",
   "metadata": {},
   "outputs": [
    {
     "data": {
      "text/markdown": [
       "Sulaym ibn Qays narrates a remarkable event that highlights the unique station of Imam Ali (AS) in the eyes of Allah (SWT) and the Holy Prophet (PBUH).\n",
       "\n",
       "One morning, after the Fajr prayer, Imam Ali (AS) emerged with Abu Bakr, Umar, and a group of Muhajireen and Ansar. They proceeded to Baqi and Imam Ali (AS) stood upon a high place. As the sun rose, Imam Ali (AS) addressed it, saying, \"Salutation, O creature of Allah's new creation who obeys Him.\"\n",
       "\n",
       "To the astonishment of all present, a voice from the sky responded, \"And salutation be on you as well, O that person, who is Awwal and O he, who is Aakheer, O Zahir, O Batin, O he who knows everything.\"\n",
       "\n",
       "Upon hearing this, Abu Bakr, Umar, and many of the Muhajireen and Ansar fainted. When they regained consciousness, they were bewildered and sought an explanation from the Holy Prophet (PBUH). They exclaimed, \"You say that Ali is a man like us, when the sun addressed him in a manner that Allah has addressed Himself.\"\n",
       "\n",
       "The Holy Prophet (PBUH) inquired, \"What did you hear from it?\"\n",
       "\n",
       "They replied, \"We heard it saying 'Salutations be on you, O he who is Awwal.'\"\n",
       "\n",
       "The Holy Prophet (PBUH) confirmed, \"It said truth. He is the first one who brought faith to me.\"\n",
       "\n",
       "They continued, \"We heard it say: 'O Aakheer'.\"\n",
       "\n",
       "He replied, \"It said truth, he is the last person of all who will separate from me. He will give me the ritual bath, shroud and will enter me in my grave.\"\n",
       "\n",
       "They added, \"We heard it say: 'O Zahir'.\"\n",
       "\n",
       "He replied: \"It said truth. All my knowledge became Zahir (clear) for him.\"\n",
       "\n",
       "They continued, \"We heard it say 'O Batin'.\"\n",
       "\n",
       "He replied: \"It said truth. All my secrets are present with him.\"\n",
       "\n",
       "Finally, they said, \"We heard it say 'O he, who knows everything'.\"\n",
       "\n",
       "He replied, \"It said truth. He knows what is lawful and unlawful, and compulsory, tradition and like it.\"\n",
       "\n",
       "This incident, as narrated by Sulaym ibn Qays, serves as a powerful testament to the divinely ordained status of Imam Ali (AS) and the profound knowledge and secrets entrusted to him by the Holy Prophet (PBUH). It underscores his unique position as the first to believe, the last to part, and the inheritor of the Prophet's (PBUH) manifest and hidden knowledge."
      ],
      "text/plain": [
       "<IPython.core.display.Markdown object>"
      ]
     },
     "metadata": {},
     "output_type": "display_data"
    }
   ],
   "source": [
    "# Ask a question\n",
    "query = \"Tell me bout imam ali talking to the sun as per whatholy prophet toold him n how dud the sun reolied to imam ali also quote the entire incident.\"\n",
    "res = qa_chain.invoke(query)\n",
    "#print(res)\n",
    "display(Markdown(res))"
   ]
  },
  {
   "cell_type": "code",
   "execution_count": null,
   "id": "a666b425",
   "metadata": {},
   "outputs": [
    {
     "data": {
      "text/markdown": [
       "Sulaym ibn Qays narrates a remarkable event that highlights the unique station of Imam Ali (AS) in the eyes of Allah (SWT) and His Messenger (PBUH).\n",
       "\n",
       "One morning, after the Fajr prayer, Imam Ali (AS) emerged, accompanied by Abu Bakr, Umar, and a group of Muhajireen and Ansar. They proceeded to Baqi and Imam Ali (AS) stood upon a high place. As the sun rose, Imam Ali (AS) addressed it, saying, \"Salutation, O creature of Allah's new creation who obeys Him.\"\n",
       "\n",
       "To the astonishment of all present, a voice from the sky responded, \"And salutation be on you as well, O that person, who is Awwal and O he, who is Aakheer, O Zahir, O Batin, O he who knows everything.\"\n",
       "\n",
       "Upon hearing this, Abu Bakr, Umar, and many of the Muhajireen and Ansar fainted. When they regained consciousness, they were bewildered and sought an explanation from the Holy Prophet (PBUH). They exclaimed, \"You say that Ali is a man like us, when the sun addressed him in a manner that Allah has addressed Himself.\"\n",
       "\n",
       "The Holy Prophet (PBUH) inquired, \"What did you hear from it?\"\n",
       "\n",
       "They replied, \"We heard it saying 'Salutations be on you, O he who is Awwal.'\"\n",
       "\n",
       "The Holy Prophet (PBUH) confirmed, \"It said truth. He is the first one who brought faith to me.\"\n",
       "\n",
       "They continued, \"We heard it say: 'O Aakheer'.\"\n",
       "\n",
       "He replied, \"It said truth, he is the last person of all who will separate from me. He will give me the ritual bath, shroud and will enter me in my grave.\"\n",
       "\n",
       "They added, \"We heard it say: 'O Zahir'.\"\n",
       "\n",
       "He replied, \"It said truth. All my knowledge became Zahir (clear) for him.\"\n",
       "\n",
       "They then said, \"We heard it say 'O Batin'.\"\n",
       "\n",
       "He replied, \"It said truth. All my secrets are present with him.\"\n",
       "\n",
       "Finally, they said, \"We heard it say 'O he, who knows everything'.\"\n",
       "\n",
       "He replied, \"It said truth. He knows what is lawful and unlawful, and compulsory, tradition and like it.\"\n",
       "\n",
       "This incident, as narrated by Sulaym ibn Qays, serves as a powerful testament to the divinely ordained status of Imam Ali (AS) and the profound knowledge and secrets entrusted to him by the Holy Prophet (PBUH). It underscores his unique position as the first to believe, the last to bid farewell, and the inheritor of the Prophet's (PBUH) manifest and hidden knowledge."
      ],
      "text/plain": [
       "<IPython.core.display.Markdown object>"
      ]
     },
     "metadata": {},
     "output_type": "display_data"
    }
   ],
   "source": [
    "# Ask a question\n",
    "query = \"Tell me bout imam ali talking to the sun as per whatholy prophet toold him n how dud the sun reolied to imam ali also quote the entire incident and give hadees no and page number from the book.\"\n",
    "res = qa_chain.invoke(query)\n",
    "#print(res)\n",
    "display(Markdown(res))"
   ]
  },
  {
   "cell_type": "markdown",
   "id": "ea318175",
   "metadata": {},
   "source": [
    "## **LangChain Qdrant**"
   ]
  },
  {
   "cell_type": "code",
   "execution_count": 2,
   "id": "628e6d93",
   "metadata": {},
   "outputs": [
    {
     "name": "stderr",
     "output_type": "stream",
     "text": [
      "c:\\Users\\sadiq\\OneDrive\\Documents\\projects\\rag-for-Hayatal-Qulub\\venv\\Lib\\site-packages\\tqdm\\auto.py:21: TqdmWarning: IProgress not found. Please update jupyter and ipywidgets. See https://ipywidgets.readthedocs.io/en/stable/user_install.html\n",
      "  from .autonotebook import tqdm as notebook_tqdm\n"
     ]
    }
   ],
   "source": [
    "from langchain.document_loaders import PyPDFLoader\n",
    "from langchain.text_splitter import RecursiveCharacterTextSplitter\n",
    "from pinecone import Pinecone\n",
    "from langchain_huggingface import HuggingFaceEmbeddings\n",
    "import os "
   ]
  },
  {
   "cell_type": "code",
   "execution_count": null,
   "id": "3f5ba237",
   "metadata": {},
   "outputs": [
    {
     "ename": "NameError",
     "evalue": "name 'QdrantClient' is not defined",
     "output_type": "error",
     "traceback": [
      "\u001b[31m---------------------------------------------------------------------------\u001b[39m",
      "\u001b[31mNameError\u001b[39m                                 Traceback (most recent call last)",
      "\u001b[36mCell\u001b[39m\u001b[36m \u001b[39m\u001b[32mIn[3]\u001b[39m\u001b[32m, line 2\u001b[39m\n\u001b[32m      1\u001b[39m \u001b[38;5;66;03m# qdrant setup\u001b[39;00m\n\u001b[32m----> \u001b[39m\u001b[32m2\u001b[39m qdrant_client = \u001b[43mQdrantClient\u001b[49m(\n\u001b[32m      3\u001b[39m     host=\u001b[33m\"\u001b[39m\u001b[33mxyz-example.eu-central.aws.cloud.qdrant.io\u001b[39m\u001b[33m\"\u001b[39m,\n\u001b[32m      4\u001b[39m     api_key=os.getenv(\u001b[33m\"\u001b[39m\u001b[33mQDRANT_API_KEY\u001b[39m\u001b[33m\"\u001b[39m),\n\u001b[32m      5\u001b[39m )\n",
      "\u001b[31mNameError\u001b[39m: name 'QdrantClient' is not defined"
     ]
    }
   ],
   "source": [
    "# # qdrant setup\n",
    "# qdrant_client = QdrantClient(\n",
    "#     host=\"xyz-example.eu-central.aws.cloud.qdrant.io\",\n",
    "#     api_key=os.getenv(\"QDRANT_API_KEY\"),\n",
    "# )"
   ]
  },
  {
   "cell_type": "code",
   "execution_count": null,
   "id": "f65138dc",
   "metadata": {},
   "outputs": [],
   "source": [
    "# ---------- begin of pipelines ----------\n",
    "# load pdf\n",
    "pdf_path = 'Hayat-Qulub-Alama-Majlisi.pdf'\n",
    "loader = PyPDFLoader(pdf_path)\n",
    "docs = loader.load()\n"
   ]
  },
  {
   "cell_type": "code",
   "execution_count": null,
   "id": "d637c367",
   "metadata": {},
   "outputs": [],
   "source": [
    "# split text \n",
    "splitter = RecursiveCharacterTextSplitter(chunk_size = 1000, chunk_overlap = 200)\n",
    "chunks = splitter.split_documents(docs)\n"
   ]
  },
  {
   "cell_type": "code",
   "execution_count": null,
   "id": "96cded5f",
   "metadata": {},
   "outputs": [],
   "source": [
    "# create embeddings\n",
    "embeddings = HuggingFaceEmbeddings(\n",
    "    model_name=\"all-MiniLM-L12-v2\", model_kwargs={\"device\": \"cuda\"}\n",
    ")"
   ]
  },
  {
   "cell_type": "code",
   "execution_count": null,
   "id": "c2f3b560",
   "metadata": {},
   "outputs": [],
   "source": []
  },
  {
   "cell_type": "code",
   "execution_count": null,
   "id": "3bf1b1ee",
   "metadata": {},
   "outputs": [],
   "source": [
    "# # setup vectordb and store embeddings\n",
    "# vector_db_qdrant = qdrant_client.recreate_collection(\n",
    "#     collection_name=\"hayat_qulub\",\n",
    "#     vectors_config=Qdrant.VectorParams(\n",
    "#          size = 768,\n",
    "#         distance=Qdrant.Distance.COSINE\n",
    "#     ),\n",
    "# )\n"
   ]
  },
  {
   "cell_type": "markdown",
   "id": "84de4611",
   "metadata": {},
   "source": [
    "## **LlamaIndex**"
   ]
  },
  {
   "cell_type": "code",
   "execution_count": null,
   "id": "6c9a336a",
   "metadata": {},
   "outputs": [],
   "source": [
    "from llama_index.core import VectorStoreIndex, StorageContext, SimpleDirectoryReader \n",
    "from llama_index.core.node_parser import TokenTextSplitter\n",
    "from llama_index.embeddings.huggingface import HuggingFaceEmbedding\n",
    "from llama_index.llms.openai import OpenAI\n",
    "\n",
    "from langchain_google_genai import ChatGoogleGenerativeAI"
   ]
  },
  {
   "cell_type": "code",
   "execution_count": null,
   "id": "3958f62a",
   "metadata": {},
   "outputs": [],
   "source": [
    "docs = SimpleDirectoryReader('pdf_docs').load_data()\n",
    "docs\n"
   ]
  },
  {
   "cell_type": "code",
   "execution_count": null,
   "id": "3078a3e9",
   "metadata": {},
   "outputs": [],
   "source": [
    "# splitter\n",
    "text_splitter = TokenTextSplitter(chunk_size=1000, chunk_overlap=200)\n",
    "text_splitter"
   ]
  },
  {
   "cell_type": "code",
   "execution_count": null,
   "id": "b8e58299",
   "metadata": {},
   "outputs": [],
   "source": [
    "embeddings = HuggingFaceEmbedding(model_name=\"all-MiniLM-L12-v2\")\n",
    "embeddings"
   ]
  },
  {
   "cell_type": "code",
   "execution_count": null,
   "id": "63d679cf",
   "metadata": {},
   "outputs": [],
   "source": [
    "storage_context = StorageContext.from_defaults(index_store=embeddings)\n",
    "storage_context"
   ]
  },
  {
   "cell_type": "code",
   "execution_count": null,
   "id": "26fd4b2f",
   "metadata": {},
   "outputs": [],
   "source": [
    "vector_store = VectorStoreIndex.from_documents(docs, storage_context=storage_context)\n",
    "vector_store"
   ]
  },
  {
   "cell_type": "code",
   "execution_count": null,
   "id": "36e2c1ac",
   "metadata": {},
   "outputs": [],
   "source": []
  },
  {
   "cell_type": "code",
   "execution_count": null,
   "id": "509d9109",
   "metadata": {},
   "outputs": [],
   "source": []
  }
 ],
 "metadata": {
  "kernelspec": {
   "display_name": "venv",
   "language": "python",
   "name": "python3"
  },
  "language_info": {
   "codemirror_mode": {
    "name": "ipython",
    "version": 3
   },
   "file_extension": ".py",
   "mimetype": "text/x-python",
   "name": "python",
   "nbconvert_exporter": "python",
   "pygments_lexer": "ipython3",
   "version": "3.13.3"
  }
 },
 "nbformat": 4,
 "nbformat_minor": 5
}
